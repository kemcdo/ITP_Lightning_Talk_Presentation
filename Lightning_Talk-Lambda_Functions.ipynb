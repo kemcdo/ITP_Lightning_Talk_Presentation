{
 "cells": [
  {
   "cell_type": "markdown",
   "metadata": {
    "slideshow": {
     "slide_type": "slide"
    }
   },
   "source": [
    "# Lambda (Anonymous) Functions\n",
    "### Kit McDonald - July 30, 2018"
   ]
  },
  {
   "cell_type": "markdown",
   "metadata": {
    "slideshow": {
     "slide_type": "slide"
    }
   },
   "source": [
    "# Function Review:\n",
    "## What are functions?\n",
    "\n",
    "*In Python functions are blocks of code that carry out a specific task.*\n",
    "\n",
    "### A Function:\n",
    "- Runs when it's called\n",
    "- Pass one or more arguments (or none)\n",
    "- Return or output one or more values (or none)\n",
    "- Variables/Scope\n",
    "    - Scope refers to the part of the program where a variable can be seen/accessed\n",
    "    - In general variables defined in a function have a local scope\n",
    "\n",
    "### Why use functions?\n",
    "- Group statements\n",
    "- Code organization/structure\n",
    "- <font color=#dc0303>**Can be re-used**</font>"
   ]
  },
  {
   "cell_type": "markdown",
   "metadata": {
    "slideshow": {
     "slide_type": "slide"
    }
   },
   "source": [
    "## Basic structure of a function\n",
    "\n",
    "```python\n",
    "# Example function structure\n",
    "def function(parameter):       # Header\n",
    "    some procedure             # Body\n",
    "    return value               # (Optional)\n",
    "```\n",
    "\n",
    "### Parameters vs Arguments\n",
    "- Parameters are used when defining the function\n",
    "- Arguments are passed to the function and are mapped to the parameters\n",
    "\n",
    "### Different types of arguments\n",
    "- Required\n",
    "- Default\n",
    "- Keyword\n",
    "- Variable number (*args, *kwargs)\n"
   ]
  },
  {
   "cell_type": "markdown",
   "metadata": {
    "slideshow": {
     "slide_type": "slide"
    }
   },
   "source": [
    "### Example: Different types of arguments"
   ]
  },
  {
   "cell_type": "code",
   "execution_count": 1,
   "metadata": {
    "slideshow": {
     "slide_type": "fragment"
    }
   },
   "outputs": [
    {
     "data": {
      "text/plain": [
       "3"
      ]
     },
     "execution_count": 1,
     "metadata": {},
     "output_type": "execute_result"
    }
   ],
   "source": [
    "# Required arguments\n",
    "def subtract(num1, num2):\n",
    "    return num1 - num2\n",
    "\n",
    "# Call function\n",
    "subtract(7,4)"
   ]
  },
  {
   "cell_type": "code",
   "execution_count": 2,
   "metadata": {
    "slideshow": {
     "slide_type": "fragment"
    }
   },
   "outputs": [
    {
     "data": {
      "text/plain": [
       "3"
      ]
     },
     "execution_count": 2,
     "metadata": {},
     "output_type": "execute_result"
    }
   ],
   "source": [
    "# Default arguments\n",
    "def subtract(num1, num2 = 4):\n",
    "    return num1 - num2\n",
    "\n",
    "# Call function\n",
    "subtract(7)"
   ]
  },
  {
   "cell_type": "code",
   "execution_count": 4,
   "metadata": {
    "slideshow": {
     "slide_type": "slide"
    }
   },
   "outputs": [
    {
     "name": "stdout",
     "output_type": "stream",
     "text": [
      "-3\n",
      "3\n"
     ]
    }
   ],
   "source": [
    "# Keyword arguments\n",
    "def subtract(num1, num2):\n",
    "    return num1 - num2\n",
    "\n",
    "# Without keyword arguments\n",
    "print(subtract(4,7))\n",
    "\n",
    "# Call function\n",
    "print(subtract(num2 = 4, num1 = 7))"
   ]
  },
  {
   "cell_type": "markdown",
   "metadata": {
    "slideshow": {
     "slide_type": "fragment"
    }
   },
   "source": [
    "- Keyword arguments can be entered in any order"
   ]
  },
  {
   "cell_type": "code",
   "execution_count": 5,
   "metadata": {
    "slideshow": {
     "slide_type": "fragment"
    }
   },
   "outputs": [
    {
     "data": {
      "text/plain": [
       "0"
      ]
     },
     "execution_count": 5,
     "metadata": {},
     "output_type": "execute_result"
    }
   ],
   "source": [
    "# Variable number arguments\n",
    "def subtract(num1, *args):\n",
    "    value = num1\n",
    "    for arg in args:\n",
    "        value -= arg\n",
    "    return value\n",
    "\n",
    "subtract(10,4,1,3,2)"
   ]
  },
  {
   "cell_type": "markdown",
   "metadata": {
    "slideshow": {
     "slide_type": "slide"
    }
   },
   "source": [
    "## Three types of Functions\n",
    "\n",
    "- Built In Functions\n",
    "- User Defined Functions\n",
    "- <font color=#dc0303>**Lambda Functions**</font>"
   ]
  },
  {
   "cell_type": "markdown",
   "metadata": {
    "slideshow": {
     "slide_type": "slide"
    }
   },
   "source": [
    "### Built In Functions\n",
    "\n",
    "- Always available\n",
    "\n",
    "```Python\n",
    "sum(iterable)                   # Sums the items in the iterable\n",
    "type(object)                    # Returns the type of an object\n",
    "all(iterable)                   # Returns True if all elements of an iterable are True\n",
    "map(function, iterable, ...)    # We'll come back to this one\n",
    "filter(function, iterable)      # This too\n",
    "```\n",
    "\n",
    "**Built-in Functions — Python 3.7.0 documentation**<br>\n",
    "https://docs.python.org/3/library/functions.html\n",
    "\n",
    "- There are tons of methods\n",
    "    - *Functions that are part of a class*\n",
    "- There are many functions in modules\n",
    "- If there is a common or standard task there is probably a function for it already!\n",
    "    - *Google is your friend*"
   ]
  },
  {
   "cell_type": "markdown",
   "metadata": {
    "slideshow": {
     "slide_type": "slide"
    }
   },
   "source": [
    "### User Defined Functions"
   ]
  },
  {
   "cell_type": "code",
   "execution_count": 6,
   "metadata": {
    "slideshow": {
     "slide_type": "fragment"
    }
   },
   "outputs": [
    {
     "data": {
      "text/plain": [
       "8"
      ]
     },
     "execution_count": 6,
     "metadata": {},
     "output_type": "execute_result"
    }
   ],
   "source": [
    "# Example of a user defined function\n",
    "def power(x, exp):\n",
    "    return x**exp\n",
    "    \n",
    "power(2,3)"
   ]
  },
  {
   "cell_type": "markdown",
   "metadata": {
    "slideshow": {
     "slide_type": "slide"
    }
   },
   "source": [
    "# Lambda (Anonymous) Functions\n",
    "\n",
    "## What are lambda functions?\n",
    "- Defined by `lambda` keyword\n",
    "- Functions that aren't named / created on the fly (anonymous)\n",
    "    - Normally when creating a function the keyword `def` is used and the name of the function is specified\n",
    "- Can be good when you only need to use a function once"
   ]
  },
  {
   "cell_type": "markdown",
   "metadata": {
    "slideshow": {
     "slide_type": "slide"
    }
   },
   "source": [
    "## Lambda Syntax\n",
    "\n",
    "```python\n",
    "lambda parameters: expression\n",
    "```\n",
    "\n",
    "- Defined by the keyword `lambda`\n",
    "- Can have multiple parameters, but only one expression!\n",
    "    - Can only evaluation one thing at a time\n",
    "    - Cannot use statements\n",
    "    - Not as powerful as other functions"
   ]
  },
  {
   "cell_type": "markdown",
   "metadata": {
    "slideshow": {
     "slide_type": "slide"
    }
   },
   "source": [
    "### Example: Comparison of a user defined function and a lambda function"
   ]
  },
  {
   "cell_type": "code",
   "execution_count": 7,
   "metadata": {
    "slideshow": {
     "slide_type": "fragment"
    }
   },
   "outputs": [
    {
     "data": {
      "text/plain": [
       "20"
      ]
     },
     "execution_count": 7,
     "metadata": {},
     "output_type": "execute_result"
    }
   ],
   "source": [
    "# User defined function\n",
    "def double(num):\n",
    "    return num * 2\n",
    "\n",
    "double(10)"
   ]
  },
  {
   "cell_type": "code",
   "execution_count": 8,
   "metadata": {
    "scrolled": true,
    "slideshow": {
     "slide_type": "fragment"
    }
   },
   "outputs": [
    {
     "data": {
      "text/plain": [
       "20"
      ]
     },
     "execution_count": 8,
     "metadata": {},
     "output_type": "execute_result"
    }
   ],
   "source": [
    "# Lambda function\n",
    "(lambda x: x * 2) (10)"
   ]
  },
  {
   "cell_type": "markdown",
   "metadata": {
    "slideshow": {
     "slide_type": "fragment"
    }
   },
   "source": [
    "Using lambda the result of evaluating the expression is implicitly returned from the function.  This is the result of lambda functions using expressions and not statements.\n",
    "- The `return` keyword is not needed\n",
    "\n",
    "In general, an expression returns (or evaluates to) a value, whereas a statement does not.  (There are numers types of exceptions to this!)  \n",
    "\n",
    "**Since a lambda function must contain an expression, and that expression must return a value, lambdas implicitly return the value returned by the expression.**"
   ]
  },
  {
   "cell_type": "markdown",
   "metadata": {
    "slideshow": {
     "slide_type": "slide"
    }
   },
   "source": [
    "### Another Example: Multiple Arguments"
   ]
  },
  {
   "cell_type": "code",
   "execution_count": 9,
   "metadata": {
    "slideshow": {
     "slide_type": "fragment"
    }
   },
   "outputs": [
    {
     "name": "stdout",
     "output_type": "stream",
     "text": [
      "8\n"
     ]
    }
   ],
   "source": [
    "# Our previous function\n",
    "def power(x, exp):\n",
    "    return x**exp\n",
    "    \n",
    "print(power(2,3))"
   ]
  },
  {
   "cell_type": "code",
   "execution_count": 10,
   "metadata": {
    "slideshow": {
     "slide_type": "fragment"
    }
   },
   "outputs": [
    {
     "name": "stdout",
     "output_type": "stream",
     "text": [
      "8\n"
     ]
    }
   ],
   "source": [
    "# Equivalent lambda function\n",
    "print((lambda x, exp: x**exp)(2,3))"
   ]
  },
  {
   "cell_type": "markdown",
   "metadata": {
    "slideshow": {
     "slide_type": "slide"
    }
   },
   "source": [
    "## Why use lambda functions?\n",
    "\n",
    "### Functional programming\n",
    "- Functions are first-class objects in Python\n",
    "    - Have attributes\n",
    "    - Can be referenced\n",
    "    - Can be assigned to variables\n",
    "\n",
    "*Functions can be passed as objects to other functions!*\n",
    "\n",
    "- Higher-order functions\n",
    "    -Takes one or more functions as arguments\n",
    "    -Returns a function as a result\n",
    "    \n",
    "#### <font color=#dc0303>Lambda functions are mostly used to pass a simple function as an argument to another function</font>"
   ]
  },
  {
   "cell_type": "markdown",
   "metadata": {
    "slideshow": {
     "slide_type": "slide"
    }
   },
   "source": [
    "### Example: Higher-order functions"
   ]
  },
  {
   "cell_type": "code",
   "execution_count": 11,
   "metadata": {
    "slideshow": {
     "slide_type": "fragment"
    }
   },
   "outputs": [
    {
     "name": "stdout",
     "output_type": "stream",
     "text": [
      "45\n"
     ]
    }
   ],
   "source": [
    "# Using user defined functions\n",
    "def use_function_twice(func, arg):\n",
    "    return func(func(arg))\n",
    "\n",
    "def times_three(x):\n",
    "    return x*3\n",
    "\n",
    "print(use_function_twice(times_three, 5))"
   ]
  },
  {
   "cell_type": "code",
   "execution_count": 12,
   "metadata": {
    "slideshow": {
     "slide_type": "fragment"
    }
   },
   "outputs": [
    {
     "name": "stdout",
     "output_type": "stream",
     "text": [
      "45\n"
     ]
    }
   ],
   "source": [
    "# Using a user defined function and a lambda function\n",
    "def use_function_twice(func, arg):\n",
    "    return func(func(arg))\n",
    "\n",
    "print(use_function_twice(lambda x: x*3, 5))"
   ]
  },
  {
   "cell_type": "markdown",
   "metadata": {
    "slideshow": {
     "slide_type": "slide"
    }
   },
   "source": [
    "## Lambda functions with map() and filter() functions\n",
    "\n",
    "- map() and filter() are built-in higher-order functions\n",
    "\n",
    "### map() function\n",
    "`map(function, iterable, ...)`\n",
    "\n",
    "- Takes a function and an iterable (or multiple iterables) as arguments\n",
    "- Passes each item of an iterable to the function\n",
    "- Returns a new iterable with the function applied to each item\n",
    "\n",
    "### filter() function\n",
    "`filter(function, iterable)`\n",
    "\n",
    "- Takes a function and an iterable as arguments\n",
    "- The function evaluates each item in the iterable and returns a boolean\n",
    "- Removes items that don't pass the function check (False)\n",
    "- Returns an iterator with items from the iterable that passed the function check\n"
   ]
  },
  {
   "cell_type": "markdown",
   "metadata": {
    "slideshow": {
     "slide_type": "slide"
    }
   },
   "source": [
    "### Example: map() function"
   ]
  },
  {
   "cell_type": "code",
   "execution_count": 13,
   "metadata": {
    "slideshow": {
     "slide_type": "fragment"
    }
   },
   "outputs": [
    {
     "name": "stdout",
     "output_type": "stream",
     "text": [
      "[15, 20, 42, 110]\n"
     ]
    }
   ],
   "source": [
    "# Using a user defined function\n",
    "def plus_ten(x):\n",
    "    return x + 10\n",
    "\n",
    "my_numbers = [5, 10, 32, 100]\n",
    "print(list(map(plus_ten, my_numbers)))"
   ]
  },
  {
   "cell_type": "code",
   "execution_count": 14,
   "metadata": {
    "slideshow": {
     "slide_type": "fragment"
    }
   },
   "outputs": [
    {
     "name": "stdout",
     "output_type": "stream",
     "text": [
      "[15, 20, 42, 110]\n"
     ]
    }
   ],
   "source": [
    "# Using a lambda function\n",
    "my_numbers = [5, 10, 32, 100]\n",
    "print(list(map(lambda x: x + 10, my_numbers)))"
   ]
  },
  {
   "cell_type": "markdown",
   "metadata": {
    "slideshow": {
     "slide_type": "slide"
    }
   },
   "source": [
    "### Example: filter() function"
   ]
  },
  {
   "cell_type": "code",
   "execution_count": 15,
   "metadata": {
    "slideshow": {
     "slide_type": "fragment"
    }
   },
   "outputs": [
    {
     "name": "stdout",
     "output_type": "stream",
     "text": [
      "[6, 4, 10, 24, 8]\n"
     ]
    }
   ],
   "source": [
    "# Using a user defined function\n",
    "def even_nums(lst):\n",
    "    if lst % 2 == 0:\n",
    "        return True\n",
    "    else:\n",
    "        return False\n",
    "\n",
    "my_numbers = [3, 6, 4, 9, 10, 24, 55, 8]\n",
    "\n",
    "my_evens = list(filter(even_nums, my_numbers))\n",
    "print(my_evens)"
   ]
  },
  {
   "cell_type": "code",
   "execution_count": 16,
   "metadata": {
    "slideshow": {
     "slide_type": "fragment"
    }
   },
   "outputs": [
    {
     "name": "stdout",
     "output_type": "stream",
     "text": [
      "[6, 4, 10, 24, 8]\n"
     ]
    }
   ],
   "source": [
    "# Using a lambda function\n",
    "\n",
    "my_numbers = [3, 6, 4, 9, 10, 24, 55, 8]\n",
    "\n",
    "my_evens = list(filter(lambda x: x % 2 == 0, my_numbers))\n",
    "print(my_evens)"
   ]
  },
  {
   "cell_type": "markdown",
   "metadata": {
    "slideshow": {
     "slide_type": "slide"
    }
   },
   "source": [
    "### Example: Borrowed example from Mouse vs Python blog\n",
    "\n",
    "```python\n",
    "import Tkinter as tk\n",
    " \n",
    "########################################################################\n",
    "class App:\n",
    "    \"\"\"\"\"\"\n",
    "    #----------------------------------------------------------------------\n",
    "    def __init__(self, parent):\n",
    "        \"\"\"Constructor\"\"\"\n",
    "        frame = tk.Frame(parent)\n",
    "        frame.pack()\n",
    " \n",
    "        btn22 = tk.Button(frame, text=\"22\", command=lambda: self.printNum(22))\n",
    "        btn22.pack(side=tk.LEFT)\n",
    "        btn44 = tk.Button(frame, text=\"44\", command=lambda: self.printNum(44))\n",
    "        btn44.pack(side=tk.LEFT)\n",
    " \n",
    "        quitBtn = tk.Button(frame, text=\"QUIT\", fg=\"red\", command=frame.quit)\n",
    "        quitBtn.pack(side=tk.LEFT)\n",
    " \n",
    "    #----------------------------------------------------------------------\n",
    "    def printNum(self, num):\n",
    "        \"\"\"\"\"\"\n",
    "        print(\"You pressed the %s button\" % num)\n",
    " \n",
    "if __name__ == \"__main__\":\n",
    "    root = tk.Tk()\n",
    "    app = App(root)\n",
    "    root.mainloop()\n",
    "```\n",
    "\n",
    "***Taken from:*** http://www.blog.pythonlibrary.org/2010/07/19/the-python-lambda/"
   ]
  },
  {
   "cell_type": "markdown",
   "metadata": {
    "slideshow": {
     "slide_type": "subslide"
    }
   },
   "source": [
    "Tkinter is Python's de-facto standard GUI (Graphical User Interface) package.\n",
    "\n",
    "In class so far we have been concentrating on making programs which have command-line interface, or CLI.  Tkinter is a module in the Python standard library that acts as an interface to Tk (a simple tookit). It's used to make GUIs that handle input/output.\n",
    "\n",
    "\n",
    "In the previous code, `tk.Button` is expecting a function object as an argument to the command parameter.  Basically, the function will be called whenever the button is clicked and that function will specify what the GUI will do.  Each button does something different, so using named functions we'd need a different function for each buttton object.  Each function is only used once (by one button)."
   ]
  },
  {
   "cell_type": "markdown",
   "metadata": {
    "slideshow": {
     "slide_type": "slide"
    }
   },
   "source": [
    "## Can assign to lambda functions to a variable\n",
    "- Can then be used like normal functions"
   ]
  },
  {
   "cell_type": "code",
   "execution_count": 17,
   "metadata": {
    "slideshow": {
     "slide_type": "fragment"
    }
   },
   "outputs": [
    {
     "name": "stdout",
     "output_type": "stream",
     "text": [
      "27\n"
     ]
    }
   ],
   "source": [
    "# Lambda functions assigned to variable times_three\n",
    "times_three = lambda x: x * 3\n",
    "\n",
    "print(times_three(9))"
   ]
  },
  {
   "cell_type": "markdown",
   "metadata": {
    "slideshow": {
     "slide_type": "fragment"
    }
   },
   "source": [
    "![Y THO](YTHO.png)\n",
    "**Shamelessly stolen from Imgur:** https://i.imgur.com/cuyHjNe.png"
   ]
  },
  {
   "cell_type": "markdown",
   "metadata": {
    "slideshow": {
     "slide_type": "slide"
    }
   },
   "source": [
    "# Review of Lambda Fuctions\n",
    "\n",
    "## What are lambda funtions?\n",
    "- Anonymous functions\n",
    "- Defined by the keyword `lambda` (as oppised to `def`)\n",
    "- Can have multiple arguments\n",
    "- Evalute a single expression\n",
    "- Implicitly return a value or values"
   ]
  },
  {
   "cell_type": "markdown",
   "metadata": {
    "slideshow": {
     "slide_type": "slide"
    }
   },
   "source": [
    "## When should lambda functions be used?\n",
    "### <font color=#dc0303>Lambda functions are never NEEDED</font>\n",
    "\n",
    "- If you’re expected to supply a function object and\n",
    "    - The function is fairly simple\n",
    "    - You are not going to reuse the function\n",
    "    \n",
    "**The general rule of thumb for lambda functions is that they should be used sparingly.**   \n",
    "If you're planning on doing something complex you should considering defining a named function instead."
   ]
  },
  {
   "cell_type": "markdown",
   "metadata": {
    "slideshow": {
     "slide_type": "slide"
    }
   },
   "source": [
    "### Example from Python Training by Dan Bader\n",
    "\n",
    "https://dbader.org/blog/python-lambda-functions\n",
    "\n",
    "```python\n",
    "# Harmful:\n",
    ">>> list(filter(lambda x: x % 2 == 0, range(16)))\n",
    "[0, 2, 4, 6, 8, 10, 12, 14]\n",
    "\n",
    "# Better:\n",
    ">>> [x for x in range(16) if x % 2 == 0]\n",
    "[0, 2, 4, 6, 8, 10, 12, 14]\n",
    "```\n",
    "\n",
    "In this case a list comprehension is cleaner and certainly preferred by Dan Bader.\n",
    "\n",
    "He also has a youtube channel -> https://www.youtube.com/channel/UCI0vQvr9aFn27yR6Ej6n5UA"
   ]
  },
  {
   "cell_type": "markdown",
   "metadata": {
    "slideshow": {
     "slide_type": "slide"
    }
   },
   "source": [
    "## Advantages of Lambda Functions\n",
    "\n",
    "- **The lambda function body is a single expression, not a block of statements (like a named function)**\n",
    "    - Can be used when you have a simple task you want to do once\n",
    "- **Can be used to embed a function within the code**\n",
    "    - You can embed a lambda within a list\n",
    "    - Used to code jump tables (lists or dictionaries of actions to be performed on demand)\n",
    "- **There are a lot of vaious things that be put in lambdas:**\n",
    "    - Simple mathematical operations, string operations, list comprehensions\n",
    "    - Function calls\n",
    "    - Functions that return None (print() function)\n",
    "    - Conditional expressions"
   ]
  },
  {
   "cell_type": "markdown",
   "metadata": {
    "slideshow": {
     "slide_type": "slide"
    }
   },
   "source": [
    "## Disadavantages  of Lambda Functions \n",
    "\n",
    "- **The lambda function body is a single expression, not a block of statements (like a named function)**\n",
    "    - Assignment statements cannot be used in lambda because they do not return anything\n",
    "    - Restricts lambda functions to simple tasks\n",
    "- **Cannot declare or use local variables**\n",
    "- **Can be confusing when used improperly**\n",
    "- **Can be difficult to know when to use**"
   ]
  },
  {
   "cell_type": "markdown",
   "metadata": {
    "slideshow": {
     "slide_type": "slide"
    }
   },
   "source": [
    "# References\n",
    "\n",
    "**Most Useful (to me)**\n",
    "- <a href=\"https://pythonconquerstheuniverse.wordpress.com/2011/08/29/lambda_tutorial/\">Yet Another Lambda Tutorial</a>\n",
    "- <a href=\"https://dbader.org/blog/python-lambda-functions\">Lambda Functions in Python: What Are They Good For?</a>\n",
    "- <a href=\"https://www.programiz.com/python-programming/anonymous-function\">Python Anonymous/Lambda Function</a>\n",
    "\n",
    "**Lambda Functions**\n",
    "- <a href=\"http://p-nand-q.com/python/lambda.html\">Stupid lambda tricks</a>\n",
    "- <a href=\"http://www.blog.pythonlibrary.org/2010/07/19/the-python-lambda/\">The Python Lambda</a>\n",
    "- <a href=\"https://www.python-course.eu/lambda\">Lambda, filter, reduce and map</a>\n",
    "- <a href=\"https://www.dotnetperls.com/lambda-python\">Lambda Python</a>\n",
    "- <a href=\"http://www.bogotobogo.com/python/python_functions_lambda.php\">Python Functions - lambda 2018</a>"
   ]
  },
  {
   "cell_type": "markdown",
   "metadata": {
    "slideshow": {
     "slide_type": "slide"
    }
   },
   "source": [
    "# References\n",
    "\n",
    "**Other Functions**\n",
    "- <a href=\"https://docs.python.org/3/library/functions.html\">Documentation » The Python Standard Library » Built-in Functions</a>\n",
    "- <a href=\"https://www.programiz.com/python-programming/function\">Python Functions</a>\n",
    "- <a href=\"https://www.programiz.com/python-programming/global-local-nonlocal-variables\">Python Global, Local and Nonlocal variables</a>\n",
    "- <a href=\"https://www.protechtraining.com/content/python_fundamentals_tutorial-functional_programming\">Python Fundamentals Tutorial: Functional Programming</a>\n",
    "- <a href=\"https://docs.python.org/3/howto/functional.html\">Documentation » Python HOWTOs » Functional Programming HOWTO</a>\n",
    "- <a href=\"https://www.programiz.com/python-programming/methods/built-in/map\">Python map()</a>\n",
    "- <a href=\"https://www.programiz.com/python-programming/methods/built-in/filter\">Python filter()</a>"
   ]
  }
 ],
 "metadata": {
  "celltoolbar": "Slideshow",
  "kernelspec": {
   "display_name": "Python 3",
   "language": "python",
   "name": "python3"
  },
  "language_info": {
   "codemirror_mode": {
    "name": "ipython",
    "version": 3
   },
   "file_extension": ".py",
   "mimetype": "text/x-python",
   "name": "python",
   "nbconvert_exporter": "python",
   "pygments_lexer": "ipython3",
   "version": "3.6.6"
  }
 },
 "nbformat": 4,
 "nbformat_minor": 2
}
